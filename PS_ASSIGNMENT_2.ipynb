{
  "nbformat": 4,
  "nbformat_minor": 0,
  "metadata": {
    "colab": {
      "provenance": [],
      "authorship_tag": "ABX9TyMcFalmEJfHPssrMJQjYepQ",
      "include_colab_link": true
    },
    "kernelspec": {
      "name": "python3",
      "display_name": "Python 3"
    },
    "language_info": {
      "name": "python"
    }
  },
  "cells": [
    {
      "cell_type": "markdown",
      "metadata": {
        "id": "view-in-github",
        "colab_type": "text"
      },
      "source": [
        "<a href=\"https://colab.research.google.com/github/2303A52155/PS_2303A52155/blob/main/PS_ASSIGNMENT_2.ipynb\" target=\"_parent\"><img src=\"https://colab.research.google.com/assets/colab-badge.svg\" alt=\"Open In Colab\"/></a>"
      ]
    },
    {
      "cell_type": "code",
      "execution_count": 5,
      "metadata": {
        "colab": {
          "base_uri": "https://localhost:8080/"
        },
        "id": "FZfqRyASO5pa",
        "outputId": "8fa7c15a-fa4e-474a-8053-6716500b7804"
      },
      "outputs": [
        {
          "output_type": "stream",
          "name": "stdout",
          "text": [
            "88.0\n"
          ]
        }
      ],
      "source": [
        "#find the mean of 85,92,89,95,87,90 using python\n",
        "import numpy as np\n",
        "x=[85,92,78,89,95,87,90]\n",
        "mean=sum(x)/len(x)\n",
        "print(mean)"
      ]
    },
    {
      "cell_type": "markdown",
      "source": [
        "OR"
      ],
      "metadata": {
        "id": "HTcl1BmsQ9fT"
      }
    },
    {
      "cell_type": "code",
      "source": [
        "sum1=0\n",
        "for i in [85,92,78,89,95,87,90]:\n",
        "  sum1=sum1+i\n",
        "print(\"sum=\",sum1)\n",
        "mean=sum1/7\n",
        "print(\"mean=\",mean)"
      ],
      "metadata": {
        "colab": {
          "base_uri": "https://localhost:8080/"
        },
        "id": "husp1bcqP--4",
        "outputId": "2ca2170a-0a32-4d3c-c118-74790dca1e80"
      },
      "execution_count": 6,
      "outputs": [
        {
          "output_type": "stream",
          "name": "stdout",
          "text": [
            "sum= 616\n",
            "mean= 88.0\n"
          ]
        }
      ]
    },
    {
      "cell_type": "markdown",
      "source": [
        "QUESTION-2"
      ],
      "metadata": {
        "id": "rUxDg56kUHym"
      }
    },
    {
      "source": [
        "a=[15,16,17,18,19,20]\n",
        "b=[2,5,11,9,14,13]\n",
        "sum2=0\n",
        "sum1= 0\n",
        "for i in range(len(a)):\n",
        "  sum1 += (a[i]*b[i])\n",
        "print(sum1)\n",
        "for i in [2,5,11,9,14,13]:\n",
        "  sum2=sum2+i\n",
        "print(sum2)\n",
        "mean=sum1/sum2\n",
        "print(mean)"
      ],
      "cell_type": "code",
      "metadata": {
        "colab": {
          "base_uri": "https://localhost:8080/"
        },
        "id": "3O5IEVs9W9nF",
        "outputId": "9904d195-663e-4771-a166-e2678e94883a"
      },
      "execution_count": 7,
      "outputs": [
        {
          "output_type": "stream",
          "name": "stdout",
          "text": [
            "985\n",
            "54\n",
            "18.24074074074074\n"
          ]
        }
      ]
    },
    {
      "cell_type": "markdown",
      "source": [
        "question-3"
      ],
      "metadata": {
        "id": "rRcRS_9Obiqd"
      }
    },
    {
      "cell_type": "code",
      "source": [
        "intervals = [(0, 10), (10, 20), (20, 30), (30, 40),(40,50), (50, 60)]\n",
        "frequencies = [12, 18, 27, 20, 17,6]\n",
        "\n",
        "total_frequency = sum(frequencies)\n",
        "sum_fx = 0\n",
        "\n",
        "for i in range(len(intervals)):\n",
        "    lower, upper = intervals[i]\n",
        "    midpoint = (lower + upper) / 2\n",
        "    sum_fx += midpoint * frequencies[i]\n",
        "\n",
        "mean = sum_fx / total_frequency\n",
        "\n",
        "print(\"Arithmetic Mean:\",mean)"
      ],
      "metadata": {
        "colab": {
          "base_uri": "https://localhost:8080/"
        },
        "id": "ZbluMEoabiWn",
        "outputId": "d0e900c2-3f76-4a46-a636-71649c57cbee"
      },
      "execution_count": 8,
      "outputs": [
        {
          "output_type": "stream",
          "name": "stdout",
          "text": [
            "Arithmetic Mean: 28.0\n"
          ]
        }
      ]
    },
    {
      "cell_type": "markdown",
      "source": [
        "question-4"
      ],
      "metadata": {
        "id": "a2Ihi8f1XZJb"
      }
    },
    {
      "cell_type": "markdown",
      "source": [
        "write a program to calculate the variance of the dataset"
      ],
      "metadata": {
        "id": "DRnKeOWNXc3b"
      }
    },
    {
      "cell_type": "code",
      "source": [
        "u = [10, 12, 23, 23, 16, 23, 21, 16]\n",
        "\n",
        "# Calculate the mean\n",
        "mean = sum(u) / len(u)\n",
        "print(f\"Mean: {mean}\")\n",
        "\n",
        "variance = sum((x - mean) ** 2 for x in u) / len(u)\n",
        "print(f\" Variance: {variance}\")"
      ],
      "metadata": {
        "colab": {
          "base_uri": "https://localhost:8080/"
        },
        "id": "5BMp984pbQRP",
        "outputId": "908be1f0-aea1-4187-a788-fa48e94e8c91"
      },
      "execution_count": 9,
      "outputs": [
        {
          "output_type": "stream",
          "name": "stdout",
          "text": [
            "Mean: 18.0\n",
            " Variance: 24.0\n"
          ]
        }
      ]
    }
  ]
}