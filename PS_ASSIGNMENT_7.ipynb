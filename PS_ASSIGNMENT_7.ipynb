{
  "nbformat": 4,
  "nbformat_minor": 0,
  "metadata": {
    "colab": {
      "provenance": [],
      "authorship_tag": "ABX9TyNh5NdcoJP9lfoABg0LPF/k",
      "include_colab_link": true
    },
    "kernelspec": {
      "name": "python3",
      "display_name": "Python 3"
    },
    "language_info": {
      "name": "python"
    }
  },
  "cells": [
    {
      "cell_type": "markdown",
      "metadata": {
        "id": "view-in-github",
        "colab_type": "text"
      },
      "source": [
        "<a href=\"https://colab.research.google.com/github/2303A52155/PS_2303A52155/blob/main/PS_ASSIGNMENT_7.ipynb\" target=\"_parent\"><img src=\"https://colab.research.google.com/assets/colab-badge.svg\" alt=\"Open In Colab\"/></a>"
      ]
    },
    {
      "cell_type": "code",
      "execution_count": 1,
      "metadata": {
        "id": "bTtgEeWaYPZr",
        "colab": {
          "base_uri": "https://localhost:8080/"
        },
        "outputId": "827ca843-4c85-4f75-fcc6-aed9c30e70fe"
      },
      "outputs": [
        {
          "output_type": "stream",
          "name": "stdout",
          "text": [
            "Sample Mean: 27466.67\n",
            "Sample Variance: 14052380.95\n",
            "Sample Standard Deviation: 3748.65\n",
            "95% Confidence Interval: (25390.733185830333, 29542.600147503003)\n",
            "Hypothesis Test Decision: Reject H0: Significant difference from 30000.\n"
          ]
        }
      ],
      "source": [
        "import numpy as np\n",
        "import scipy.stats as stats\n",
        "data = [25000, 31000, 20000, 28000, 29500, 32000, 21000, 30500, 27000,\n",
        "        28500, 23000, 30000, 31000, 26000, 29500]\n",
        "sample_mean = np.mean(data)\n",
        "sample_std = np.std(data, ddof=1)\n",
        "sample_variance = np.var(data, ddof=1)\n",
        "n = len(data)\n",
        "confidence_level = 0.95\n",
        "alpha = 1 - confidence_level\n",
        "t_critical = stats.t.ppf(1 - alpha / 2, df=n - 1)\n",
        "margin_of_error = t_critical * (sample_std / np.sqrt(n))\n",
        "confidence_interval = (sample_mean - margin_of_error, sample_mean + margin_of_error)\n",
        "hypothesized_mean = 30000\n",
        "if confidence_interval[0] <= hypothesized_mean <= confidence_interval[1]:\n",
        "    decision = \"Fail to reject H0: No significant difference from 30000.\"\n",
        "else:\n",
        "    decision = \"Reject H0: Significant difference from 30000.\"\n",
        "print(f\"Sample Mean: {sample_mean:.2f}\")\n",
        "print(f\"Sample Variance: {sample_variance:.2f}\")\n",
        "print(f\"Sample Standard Deviation: {sample_std:.2f}\")\n",
        "print(f\"95% Confidence Interval: {confidence_interval}\")\n",
        "print(f\"Hypothesis Test Decision: {decision}\")"
      ]
    }
  ]
}